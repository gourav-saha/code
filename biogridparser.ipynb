{
 "cells": [
  {
   "cell_type": "code",
   "execution_count": 1,
   "metadata": {},
   "outputs": [],
   "source": [
    "import os\n",
    "import sys\n",
    "import re\n",
    "import pprint\n",
    "import numpy as np\n",
    "import pickle\n",
    "from tqdm import tqdm"
   ]
  },
  {
   "cell_type": "code",
   "execution_count": 1,
   "metadata": {},
   "outputs": [],
   "source": [
    "def main(BioGrid_tsv,subset):\n",
    "    tsv2LL(BioGrid_tsv,\"Hs\")"
   ]
  },
  {
   "cell_type": "code",
   "execution_count": 2,
   "metadata": {},
   "outputs": [],
   "source": [
    "def reading(name):\n",
    "    with open(name, 'r') as F:\n",
    "        ob_from_file = eval(F.read())\n",
    "    F.close()\n",
    "    return ob_from_file"
   ]
  },
  {
   "cell_type": "code",
   "execution_count": 3,
   "metadata": {},
   "outputs": [],
   "source": [
    "def LL2csv(LL,name):\n",
    "    with open(name,\"w\") as F:\n",
    "        for L in LL:\n",
    "            F.write(\"%s\\n\" %  (\",\").join( [str(i) for i in L]))\n",
    "    F.close()"
   ]
  },
  {
   "cell_type": "code",
   "execution_count": 5,
   "metadata": {},
   "outputs": [],
   "source": [
    "def tsv2LL(name,organism):\n",
    "    D = {\"ij\":{}}\n",
    "    methods = []\n",
    "    with open(name,\"r\") as F:\n",
    "        for line in tqdm(F):\n",
    "            cols = line.split(\"\\n\")[0].split(\"\\t\")\n",
    "            #print cols[15],cols[16]\n",
    "            \"\"\"\n",
    "            0 #BioGRID Interaction ID\n",
    "            1 Entrez Gene Interactor A\n",
    "            2 Entrez Gene Interactor B\n",
    "            3 BioGRID ID Interactor A\n",
    "            4 BioGRID ID Interactor B\n",
    "            5 Systematic Name Interactor A\n",
    "            6 Systematic Name Interactor B\n",
    "            7 Official Symbol Interactor A\n",
    "            8 Official Symbol Interactor B\n",
    "            9 Synonyms Interactor A\n",
    "            10 Synonyms Interactor B\n",
    "            11 Experimental System\n",
    "            12 Experimental System Type\n",
    "            13 Author\n",
    "            14 Pubmed ID\n",
    "            15 Organism Interactor A\n",
    "            16 Organism Interactor B\n",
    "            17 Throughput\n",
    "            18 Score\n",
    "            19 Modification\n",
    "            20 Phenotypes\n",
    "            21 Qualifications\n",
    "            22 Tags\n",
    "            23 Source Database\n",
    "            \"\"\"\n",
    "            if organism == \"Hs\":\n",
    "                if cols[15] == '9606':\n",
    "                    if cols[16] == '9606':\n",
    "                        if cols[12] == \"physical\":\n",
    "                            bait = cols[1]\n",
    "                            prey = cols[2]\n",
    "                            method = cols[11]\n",
    "                            methods.append(method)\n",
    "                            try:\n",
    "                                D[\"ij\"][bait][prey][method] +=1\n",
    "                            except KeyError:\n",
    "                                try:\n",
    "                                    D[\"ij\"][bait][prey][method] = 1\n",
    "                                except KeyError:\n",
    "                                    try:\n",
    "                                        D[\"ij\"][bait][prey] = {}\n",
    "                                        D[\"ij\"][bait][prey][method] = 1\n",
    "                                    except KeyError:\n",
    "                                        D[\"ij\"][bait] = {}\n",
    "                                        D[\"ij\"][bait][prey] = {}\n",
    "                                        D[\"ij\"][bait][prey][method] = 1\n",
    "                                        #print bait,prey,method\n",
    "            if organism == \"Sc\":\n",
    "                if cols[12] == \"physical\":\n",
    "                    if cols[15] == '559292':\n",
    "                        if cols[16] == '559292':\n",
    "\n",
    "                            bait = cols[7]\n",
    "                            prey = cols[8]\n",
    "                            method = cols[11]\n",
    "                            methods.append(method)\n",
    "                            try:\n",
    "                                D[\"ij\"][bait][prey][method] +=1\n",
    "                            except KeyError:\n",
    "                                try:\n",
    "                                    D[\"ij\"][bait][prey][method] = 1\n",
    "                                except KeyError:\n",
    "                                    try:\n",
    "                                        D[\"ij\"][bait][prey] = {}\n",
    "                                        D[\"ij\"][bait][prey][method] = 1\n",
    "                                    except KeyError:\n",
    "                                        D[\"ij\"][bait] = {}\n",
    "                                        D[\"ij\"][bait][prey] = {}\n",
    "                                        D[\"ij\"][bait][prey][method] = 1\n",
    "                                        #print bait,prey,method\n",
    "\n",
    "\n",
    "\n",
    "\n",
    "        pprint.pprint(D)\n",
    "        #pprint.pprint(list(set(methods)))\n",
    "        F.close()\n"
   ]
  },
  {
   "cell_type": "code",
   "execution_count": 8,
   "metadata": {},
   "outputs": [
    {
     "ename": "SyntaxError",
     "evalue": "invalid syntax (900370872.py, line 1)",
     "output_type": "error",
     "traceback": [
      "\u001b[0;36m  Input \u001b[0;32mIn [8]\u001b[0;36m\u001b[0m\n\u001b[0;31m    parse_biogridtab3_2_dict.py BIOGRID-GENE-107836-4.4.210.DOWNLOADS/BIOGRID-GENE-107836-4.4.210.tab3.txt Hs > CSNK1A1.txt\u001b[0m\n\u001b[0m                                ^\u001b[0m\n\u001b[0;31mSyntaxError\u001b[0m\u001b[0;31m:\u001b[0m invalid syntax\n"
     ]
    }
   ],
   "source": []
  }
 ],
 "metadata": {
  "interpreter": {
   "hash": "aee8b7b246df8f9039afb4144a1f6fd8d2ca17a180786b69acc140d282b71a49"
  },
  "kernelspec": {
   "display_name": "Python 3.10.2 64-bit",
   "language": "python",
   "name": "python3"
  },
  "language_info": {
   "codemirror_mode": {
    "name": "ipython",
    "version": 3
   },
   "file_extension": ".py",
   "mimetype": "text/x-python",
   "name": "python",
   "nbconvert_exporter": "python",
   "pygments_lexer": "ipython3",
   "version": "3.10.2"
  },
  "orig_nbformat": 4
 },
 "nbformat": 4,
 "nbformat_minor": 2
}
