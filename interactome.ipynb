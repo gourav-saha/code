{
 "cells": [
  {
   "cell_type": "code",
   "execution_count": 11,
   "metadata": {},
   "outputs": [],
   "source": [
    "all_methods= ['Two-hybrid','PCA','Co-fractionation', 'Biochemical Activity',  'Protein-RNA', 'Affinity Capture-Luminescence', 'Far Western', 'Reconstituted Complex', 'Affinity Capture-Western', 'Co-crystal Structure', 'Co-purification', 'Proximity Label-MS', 'Protein-peptide', 'Co-localization', 'Affinity Capture-RNA',  'Affinity Capture-MS', 'FRET']\n",
    "\n",
    "\n",
    "binary_methods = [\"Two-hybrid\",'PCA', 'Biochemical Activity', 'Affinity Capture-Luminescence', 'Reconstituted Complex', 'Co-crystal Structure', 'FRET']"
   ]
  },
  {
   "cell_type": "code",
   "execution_count": 12,
   "metadata": {},
   "outputs": [],
   "source": [
    "def get_data(dir):\n",
    "    import json\n",
    "    import os\n",
    "    database = {}\n",
    "    for filename in os.listdir(dir):\n",
    "        dicti = {}\n",
    "        f = os.path.join(dir, filename)\n",
    "        with open (f) as s:\n",
    "            data = s.read()\n",
    "            data = data.replace('\\'', '\\\"')\n",
    "            dicti = json.loads(data)\n",
    "            name = filename.split('.')[0]\n",
    "            database[name] = dicti['ij']        \n",
    "    print(database.keys())\n",
    "    return database"
   ]
  },
  {
   "cell_type": "code",
   "execution_count": 20,
   "metadata": {},
   "outputs": [],
   "source": [
    "def get_interactors(dict):\n",
    "    import pandas as pd\n",
    "    import numpy as np\n",
    "    interactome_all = {}\n",
    "    interactome_bi = {}\n",
    "    index = {'CSNK1A1': '1452', 'CSNK1A1L': '122011', 'CSNK1D': '1453', 'CSNK1E': '1454'}\n",
    "    all_methods= ['Two-hybrid','PCA','Co-fractionation', 'Biochemical Activity',  'Protein-RNA', 'Affinity Capture-Luminescence', 'Far Western', 'Reconstituted Complex', 'Affinity Capture-Western', 'Co-crystal Structure', 'Co-purification', 'Proximity Label-MS', 'Protein-peptide', 'Co-localization', 'Affinity Capture-RNA',  'Affinity Capture-MS', 'FRET']\n",
    "    binary_methods = [\"Two-hybrid\",'PCA', 'Biochemical Activity', 'Affinity Capture-Luminescence', 'Reconstituted Complex', 'Co-crystal Structure', 'FRET']\n",
    "    for protein in dict.keys():\n",
    "        interactome_all[protein] = {}\n",
    "        interactome_bi[protein] = {}\n",
    "        for bait1, prey1 in dict[protein].items():\n",
    "            proteinid = index[protein]\n",
    "            if bait1 == proteinid:\n",
    "                for bait2, prey2 in prey1.items():\n",
    "                    count1 = 0\n",
    "                    count2 = 0\n",
    "                    for bait3,prey3 in prey2.items():\n",
    "                        count1 = prey3 + count1\n",
    "                        if bait3 in binary_methods:\n",
    "                            count2 = prey3 + count2\n",
    "                    interactome_all[protein][bait2]= count1\n",
    "                    interactome_bi[protein][bait2] = count2\n",
    "            else:\n",
    "                for bait2, prey2 in prey1.items():\n",
    "                    count3=0\n",
    "                    count4=0\n",
    "                    for bait3, prey3 in prey2.items():\n",
    "                        count3 = prey3 + count3\n",
    "                        if bait3 in binary_methods:\n",
    "                            count4 = prey3 + count4\n",
    "                    interactome_all[protein][bait1] = count3\n",
    "                    interactome_bi[protein][bait1] = count4\n",
    "    df1 = pd.DataFrame.from_dict(interactome_all)\n",
    "    df2 = pd.DataFrame.from_dict(interactome_bi)\n",
    "    df1 = df1.replace(np.nan, 0)\n",
    "    df2 = df2.replace(np.nan, 0)\n",
    "    return(df1, df2)\n"
   ]
  },
  {
   "cell_type": "code",
   "execution_count": 21,
   "metadata": {},
   "outputs": [
    {
     "name": "stdout",
     "output_type": "stream",
     "text": [
      "dict_keys(['CSNK1A1', 'CSNK1E', 'CSNK1D', 'CSNK1A1L'])\n"
     ]
    },
    {
     "data": {
      "text/html": [
       "<div>\n",
       "<style scoped>\n",
       "    .dataframe tbody tr th:only-of-type {\n",
       "        vertical-align: middle;\n",
       "    }\n",
       "\n",
       "    .dataframe tbody tr th {\n",
       "        vertical-align: top;\n",
       "    }\n",
       "\n",
       "    .dataframe thead th {\n",
       "        text-align: right;\n",
       "    }\n",
       "</style>\n",
       "<table border=\"1\" class=\"dataframe\">\n",
       "  <thead>\n",
       "    <tr style=\"text-align: right;\">\n",
       "      <th></th>\n",
       "      <th>CSNK1A1</th>\n",
       "      <th>CSNK1E</th>\n",
       "      <th>CSNK1D</th>\n",
       "      <th>CSNK1A1L</th>\n",
       "    </tr>\n",
       "  </thead>\n",
       "  <tbody>\n",
       "    <tr>\n",
       "      <th>10010</th>\n",
       "      <td>1.0</td>\n",
       "      <td>0.0</td>\n",
       "      <td>1.0</td>\n",
       "      <td>0.0</td>\n",
       "    </tr>\n",
       "    <tr>\n",
       "      <th>100506658</th>\n",
       "      <td>1.0</td>\n",
       "      <td>2.0</td>\n",
       "      <td>0.0</td>\n",
       "      <td>0.0</td>\n",
       "    </tr>\n",
       "    <tr>\n",
       "      <th>10112</th>\n",
       "      <td>1.0</td>\n",
       "      <td>0.0</td>\n",
       "      <td>1.0</td>\n",
       "      <td>1.0</td>\n",
       "    </tr>\n",
       "    <tr>\n",
       "      <th>102724631</th>\n",
       "      <td>1.0</td>\n",
       "      <td>0.0</td>\n",
       "      <td>0.0</td>\n",
       "      <td>0.0</td>\n",
       "    </tr>\n",
       "    <tr>\n",
       "      <th>10410</th>\n",
       "      <td>1.0</td>\n",
       "      <td>0.0</td>\n",
       "      <td>0.0</td>\n",
       "      <td>0.0</td>\n",
       "    </tr>\n",
       "  </tbody>\n",
       "</table>\n",
       "</div>"
      ],
      "text/plain": [
       "           CSNK1A1  CSNK1E  CSNK1D  CSNK1A1L\n",
       "10010          1.0     0.0     1.0       0.0\n",
       "100506658      1.0     2.0     0.0       0.0\n",
       "10112          1.0     0.0     1.0       1.0\n",
       "102724631      1.0     0.0     0.0       0.0\n",
       "10410          1.0     0.0     0.0       0.0"
      ]
     },
     "execution_count": 21,
     "metadata": {},
     "output_type": "execute_result"
    }
   ],
   "source": [
    "dir='biogrid_data'\n",
    "database = get_data(dir)\n",
    "interactome_all, interactome_bi = get_interactors(database)\n",
    "interactome_all.to_csv('interactome_all.csv')\n",
    "interactome_bi.to_csv('interactome_bi.csv')\n",
    "pd.DataFrame.head(interactome_all)"
   ]
  },
  {
   "cell_type": "code",
   "execution_count": 15,
   "metadata": {},
   "outputs": [],
   "source": [
    "def intersection(a, b):\n",
    "    return list(set(a) & set(b))"
   ]
  },
  {
   "cell_type": "code",
   "execution_count": null,
   "metadata": {},
   "outputs": [],
   "source": []
  },
  {
   "cell_type": "code",
   "execution_count": null,
   "metadata": {},
   "outputs": [],
   "source": []
  }
 ],
 "metadata": {
  "interpreter": {
   "hash": "aee8b7b246df8f9039afb4144a1f6fd8d2ca17a180786b69acc140d282b71a49"
  },
  "kernelspec": {
   "display_name": "Python 3.10.2 64-bit",
   "language": "python",
   "name": "python3"
  },
  "language_info": {
   "codemirror_mode": {
    "name": "ipython",
    "version": 3
   },
   "file_extension": ".py",
   "mimetype": "text/x-python",
   "name": "python",
   "nbconvert_exporter": "python",
   "pygments_lexer": "ipython3",
   "version": "3.10.2"
  },
  "orig_nbformat": 4
 },
 "nbformat": 4,
 "nbformat_minor": 2
}
